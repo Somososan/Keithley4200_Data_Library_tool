{
 "cells": [
  {
   "cell_type": "code",
   "execution_count": 22,
   "metadata": {},
   "outputs": [],
   "source": [
    "import json\n",
    "import os\n",
    "import sys\n",
    "import string\n",
    "import numpy as np\n",
    "import math\n",
    "import matplotlib.pyplot as plt\n",
    "from pathlib import Path, PureWindowsPath, WindowsPath\n",
    "\n",
    "valid_chars = \"-_.() %s%s\" % (string.ascii_letters, string.digits)\n",
    "outputdir = PureWindowsPath('C:/Users/C Karaliolios/Dropbox/Afstudeeropdracht/DataLibrary/output')\n",
    "#sys.stderr.write(str(windowsfilepath))\n",
    "filename = Path(outputdir/PureWindowsPath('id_bins.json'))\n",
    "#sys.stderr.write(str(filename))\n",
    "with open(filename,encoding=\"utf-8\") as json_file:\n",
    "    data = json.load(json_file)\n",
    "    json.dumps(data)\n",
    "        "
   ]
  },
  {
   "cell_type": "code",
   "execution_count": 23,
   "metadata": {},
   "outputs": [
    {
     "name": "stdout",
     "output_type": "stream",
     "text": [
      "W=10μm L=0.35μm 20191126-1\n",
      "W=10μm L=0.35μm 20191126-2\n",
      "W=10μm L=0.5μm 20191126-3\n",
      "W=10μm L=0.5μm 20191126-4\n",
      "W=10μm L=10μm 20191126-5\n",
      "W=10μm L=10μm 20191126-6\n",
      "W=10μm L=10μm 20191126-7\n",
      "W=10μm L=1μm 20191126-8\n",
      "W=10μm L=1μm 20191126-9\n",
      "W=10μm L=3μm 20191126-10\n",
      "W=10μm L=3μm 20191126-11\n",
      "W=0.25μm L=0.35μm 20191204-1\n",
      "W=0.25μm L=0.35μm 20191204-2\n",
      "W=0.25μm L=0.35μm 20191204-3\n",
      "W=0.25μm L=0.5μm 20191204-4\n",
      "W=0.25μm L=0.5μm 20191204-5\n",
      "W=0.25μm L=0.5μm 20191204-6\n",
      "W=0.25μm L=1μm 20191204-7\n",
      "W=0.25μm L=1μm 20191204-8\n",
      "W=0.25μm L=1μm 20191204-9\n",
      "W=0.25μm L=1μm 20191204-10\n",
      "W=0.25μm L=3μm 20191204-11\n",
      "W=0.25μm L=3μm 20191204-12\n",
      "W=0.25μm L=3μm 20191204-13\n",
      "W=0.25μm L=10μm 20191204-14\n",
      "W=0.25μm L=10μm 20191204-15\n",
      "W=0.25μm L=10μm 20191204-16\n",
      "W=1μm L=10μm 20191204-27\n",
      "W=1μm L=10μm 20191204-28\n",
      "W=1μm L=10μm 20191204-29\n",
      "W=1μm L=3μm 20191204-30\n",
      "W=1μm L=3μm 20191204-31\n",
      "W=1μm L=3μm 20191204-32\n",
      "W=1μm L=1μm 20191204-33\n",
      "W=1μm L=1μm 20191204-34\n",
      "W=1μm L=1μm 20191204-35\n",
      "W=1μm L=0.5μm 20191204-36\n",
      "W=1μm L=0.5μm 20191204-37\n",
      "W=1μm L=0.5μm 20191204-38\n",
      "W=1μm L=0.35μm 20191204-39\n",
      "W=1μm L=0.35μm 20191204-40\n",
      "W=1μm L=0.35μm 20191204-41\n"
     ]
    }
   ],
   "source": [
    "    for serie in data:\n",
    "        for id_data in filter((lambda dat: dat['designator'] == 'Id' ),serie['data']):\n",
    "            print(serie['title'])"
   ]
  },
  {
   "cell_type": "code",
   "execution_count": 24,
   "metadata": {},
   "outputs": [
    {
     "name": "stderr",
     "output_type": "stream",
     "text": [
      "C:\\Users\\C Karaliolios\\Dropbox\\Afstudeeropdracht\\DataLibrary\\output\\id_bins_W=1μm L=0.35μm 20191204-41.png\n"
     ]
    },
    {
     "data": {
      "image/png": "[encoded data removed]",
      "text/plain": [
       "<Figure size 432x288 with 1 Axes>"
      ]
     },
     "metadata": {
      "needs_background": "light"
     },
     "output_type": "display_data"
    }
   ],
   "source": [
    "            arr = np.array(id_data['data'][0])\n",
    "            n, bins, patches = plt.hist(arr, bins='auto', density=True, facecolor='g', alpha=0.75)\n",
    "            plt.ticklabel_format(axis='both',style='sci', scilimits=(0,0))\n",
    "            plt.title(\"histogram of: \"+serie['title']) \n",
    "            filename = Path(outputdir/PureWindowsPath(\"id_bins_\" + serie['title'] + \".png\"))\n",
    "            #filename = outputdir + \"id_bins_\" + serie['title'] + \".png\"\n",
    "            #filename = ''.join(c for c in filename if c in valid_chars)\n",
    "            sys.stderr.write(str(filename) + '\\n')\n",
    "            plt.savefig(filename)\n",
    "            plt.show()              "
   ]
  },
  {
   "cell_type": "code",
   "execution_count": 3,
   "metadata": {},
   "outputs": [
    {
     "data": {
      "image/png": "[encoded data removed]",
      "text/plain": [
       "<Figure size 432x288 with 1 Axes>"
      ]
     },
     "metadata": {
      "needs_background": "light"
     },
     "output_type": "display_data"
    }
   ],
   "source": [
    "\n",
    "            \n",
    "    \n",
    "from matplotlib import pyplot as plt \n",
    "import numpy as np  \n",
    "   \n",
    "a = np.array([22,87,5,43,56,73,55,54,11,20,51,5,79,31,27]) \n",
    "plt.hist(a, bins = [0,20,40,60,80,100]) \n",
    "plt.title(\"histogram\") \n",
    "plt.show()\n",
    "\n",
    "  \n",
    "            "
   ]
  },
  {
   "cell_type": "code",
   "execution_count": 21,
   "metadata": {},
   "outputs": [
    {
     "name": "stdout",
     "output_type": "stream",
     "text": [
      "°\n"
     ]
    }
   ],
   "source": [
    "print('°')\n",
    "            "
   ]
  },
  {
   "cell_type": "code",
   "execution_count": null,
   "metadata": {},
   "outputs": [],
   "source": []
  },
  {
   "cell_type": "code",
   "execution_count": null,
   "metadata": {},
   "outputs": [],
   "source": []
  },
  {
   "cell_type": "code",
   "execution_count": null,
   "metadata": {},
   "outputs": [],
   "source": []
  }
 ],
 "metadata": {
  "kernelspec": {
   "display_name": "Python 3",
   "language": "python",
   "name": "python3"
  },
  "language_info": {
   "codemirror_mode": {
    "name": "ipython",
    "version": 3
   },
   "file_extension": ".py",
   "mimetype": "text/x-python",
   "name": "python",
   "nbconvert_exporter": "python",
   "pygments_lexer": "ipython3",
   "version": "3.7.4"
  }
 },
 "nbformat": 4,
 "nbformat_minor": 2
}
